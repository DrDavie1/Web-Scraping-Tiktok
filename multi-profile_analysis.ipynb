{
 "cells": [
  {
   "cell_type": "markdown",
   "metadata": {},
   "source": [
    "$$ \\text{COMPARISON OF A MULTIPLE TIKTOK PROFILES USING WEB-SCRAPED DATA} $$"
   ]
  },
  {
   "cell_type": "markdown",
   "metadata": {},
   "source": [
    "In this notebook i will be using the search class i have created in fetch_profiles.py to collect a number of user names related by a similar interest. For example fitness. "
   ]
  },
  {
   "cell_type": "code",
   "execution_count": 23,
   "metadata": {},
   "outputs": [],
   "source": [
    "from fetch_profiles import *\n",
    "from profile_scrape import *\n",
    "import numpy as np\n",
    "import pandas as pd\n",
    "from Functions.expected_interactions import *"
   ]
  },
  {
   "cell_type": "code",
   "execution_count": 24,
   "metadata": {},
   "outputs": [
    {
     "name": "stdout",
     "output_type": "stream",
     "text": [
      "['demi.bars', 'jamesbrosnan_longdrive', 'petermannionjr', 'thefoldinglady', 'worldrugby', 'louispickleball', 'daveboxingcoach', 'izzywildgoose', 'jeremylynch']\n",
      "9\n"
     ]
    }
   ],
   "source": [
    "fitness_related_users = Search(\"sport\",10)\n",
    "print(fitness_related_users.usernames)\n",
    "print(len(fitness_related_users.usernames))\n"
   ]
  },
  {
   "cell_type": "markdown",
   "metadata": {},
   "source": [
    "As you can see we have collected 20 users, we can now use the profile anaylis function for all of these. The run time will be very large for this."
   ]
  },
  {
   "cell_type": "code",
   "execution_count": 27,
   "metadata": {},
   "outputs": [],
   "source": [
    "profile_objects = []\n",
    "\n",
    "for i in fitness_related_users.usernames:\n",
    "    profile_page = Profile(i,10)\n",
    "    profile_page.get_information()\n",
    "    profile_page.quit()\n",
    "    profile_objects.append(profile_page)"
   ]
  },
  {
   "cell_type": "markdown",
   "metadata": {},
   "source": [
    "Now that we have collected all the data let's have a look at it."
   ]
  },
  {
   "cell_type": "code",
   "execution_count": 28,
   "metadata": {},
   "outputs": [
    {
     "name": "stdout",
     "output_type": "stream",
     "text": [
      "                 Username   Followers  Expected Likes  Expected Comments  \\\n",
      "0               demi.bars    248100.0     1065.777778          10.400000   \n",
      "1  jamesbrosnan_longdrive     19400.0       93.666667           4.777778   \n",
      "2          petermannionjr     64600.0      117.444444           3.111111   \n",
      "3          thefoldinglady   4300000.0     4744.555556          28.111111   \n",
      "4              worldrugby   1400000.0     1458.777778           5.222222   \n",
      "5         louispickleball      1299.0     2585.444444           8.888889   \n",
      "6         daveboxingcoach     35200.0       55.000000           0.555556   \n",
      "7           izzywildgoose     65700.0      242.000000           2.625000   \n",
      "8             jeremylynch  21300000.0   174918.444444        1434.444444   \n",
      "\n",
      "   Expected Shares  \n",
      "0         4.111111  \n",
      "1         2.111111  \n",
      "2         0.222222  \n",
      "3        33.333333  \n",
      "4         4.900000  \n",
      "5       313.888889  \n",
      "6         0.000000  \n",
      "7         2.125000  \n",
      "8       890.600000  \n"
     ]
    }
   ],
   "source": [
    "from h11 import Data\n",
    "\n",
    "\n",
    "usernames = []\n",
    "followers = []\n",
    "expected_likes = []\n",
    "expected_comments = []\n",
    "expected_shares = []\n",
    "\n",
    "for i in profile_objects:\n",
    "    usernames.append(i.username)\n",
    "    followers.append(i.followers)\n",
    "    expected_like = expected_interactions(np.array(i.likes))\n",
    "    expected_likes.append(expected_like)\n",
    "    expected_comment = expected_interactions(np.array(i.comments))\n",
    "    expected_comments.append(expected_comment)\n",
    "    expected_share = expected_interactions(np.array(i.shares))\n",
    "    expected_shares.append(expected_share)\n",
    "\n",
    "\n",
    "dataframe = pd.DataFrame({\"Username\":usernames,\"Followers\":followers,\"Expected Likes\":expected_likes,\"Expected Comments\":expected_comments,\"Expected Shares\":expected_shares})\n",
    "print(dataframe)"
   ]
  },
  {
   "cell_type": "markdown",
   "metadata": {},
   "source": [
    "Using the database above although one can compare the profiles rather well it would be easier to compare a single number. The formular below is a simple way of accounting for all the parameters above."
   ]
  },
  {
   "cell_type": "markdown",
   "metadata": {},
   "source": [
    "$$ \\text{interaction score} = \\frac{{100}{(l + c^2 + s^3)}}{F}   $$"
   ]
  },
  {
   "cell_type": "markdown",
   "metadata": {},
   "source": [
    "l is expected likes, c is expected comments, s is expected shares. "
   ]
  },
  {
   "cell_type": "code",
   "execution_count": 36,
   "metadata": {},
   "outputs": [
    {
     "name": "stdout",
     "output_type": "stream",
     "text": [
      "                 Username   Followers Interaction Score\n",
      "0               demi.bars    248100.0             0.441\n",
      "1  jamesbrosnan_longdrive     19400.0             0.554\n",
      "2          petermannionjr     64600.0             0.192\n",
      "3          thefoldinglady   4300000.0             0.113\n",
      "4              worldrugby   1400000.0             0.106\n",
      "5         louispickleball      1299.0           248.730\n",
      "6         daveboxingcoach     35200.0             0.159\n",
      "7           izzywildgoose     65700.0             0.383\n",
      "8             jeremylynch  21300000.0             0.843\n"
     ]
    }
   ],
   "source": [
    "interaction_scores = []\n",
    "for i in range(0,len(usernames)):\n",
    "\n",
    "    interaction_score = 100*(expected_likes[i]+(expected_comments[i])*2+(expected_shares[i])*2) / followers[i]\n",
    "\n",
    "    interaction_scores.append(\"{:.3f}\".format(interaction_score))\n",
    "\n",
    "interaction_score_data_frame = pd.DataFrame({\"Username\":usernames,\"Followers\":followers,\"Interaction Score\":interaction_scores})\n",
    "print(interaction_score_data_frame)"
   ]
  },
  {
   "cell_type": "markdown",
   "metadata": {},
   "source": [
    "Now we have a database that is much easier to look for good influences to possibly collaborate with. As you can see, for example louispickleball has a value  weirdly high. "
   ]
  },
  {
   "cell_type": "code",
   "execution_count": 52,
   "metadata": {},
   "outputs": [
    {
     "name": "stdout",
     "output_type": "stream",
     "text": [
      "[15.0, 9.0, 102.0, 22900.0, 95700.0, 39.0, 54.0, 17.0, 32.0, 101.0]\n",
      "11896.9\n",
      "28753.3726107043\n",
      "69403.6452214086\n"
     ]
    }
   ],
   "source": [
    "print(profile_objects[5].likes)\n",
    "likes = np.array(profile_objects[5].likes)\n",
    "print(likes.mean())\n",
    "print(likes.mean() + likes.std()*2)"
   ]
  },
  {
   "cell_type": "markdown",
   "metadata": {},
   "source": [
    "This shows the limitations of our current expected interaction function along with the amount of data we have collected. "
   ]
  },
  {
   "cell_type": "markdown",
   "metadata": {},
   "source": [
    "Regardless of this anomaly, a sport company can still find this data useful. we can easily see that the top 4 influencers to collaborate with here would be 0(demi.bars), 1(jamesbrosnan_longdrive), 7(izzywildgoose) 8(jeremylynch). Running this program for hundreds of accounts and comparing followers and our 'interaction score' could provide very useful information. Can be done for any catorgary too. "
   ]
  }
 ],
 "metadata": {
  "kernelspec": {
   "display_name": "Python 3.10.7 64-bit",
   "language": "python",
   "name": "python3"
  },
  "language_info": {
   "codemirror_mode": {
    "name": "ipython",
    "version": 3
   },
   "file_extension": ".py",
   "mimetype": "text/x-python",
   "name": "python",
   "nbconvert_exporter": "python",
   "pygments_lexer": "ipython3",
   "version": "3.10.7"
  },
  "orig_nbformat": 4,
  "vscode": {
   "interpreter": {
    "hash": "aee8b7b246df8f9039afb4144a1f6fd8d2ca17a180786b69acc140d282b71a49"
   }
  }
 },
 "nbformat": 4,
 "nbformat_minor": 2
}
